{
 "cells": [
  {
   "metadata": {
    "collapsed": true
   },
   "cell_type": "code",
   "outputs": [],
   "execution_count": null,
   "source": [
    "import numpy as np\n",
    "import pandas as pd\n",
    "import optuna\n",
    "from optuna.integration import LightGBMPruningCallback\n",
    "from matplotlib import pyplot as plt\n",
    "from sklearn.model_selection import train_test_split, GridSearchCV, StratifiedKFold\n",
    "from sklearn.metrics import accuracy_score, classification_report\n",
    "import lightgbm as lgb\n",
    "from lightgbm import log_evaluation, early_stopping\n",
    "import warnings\n",
    "\n",
    "# 忽略警告\n",
    "warnings.filterwarnings(\"ignore\")"
   ],
   "id": "initial_id"
  },
  {
   "metadata": {},
   "cell_type": "markdown",
   "source": "# 1. 数据导入与预处理",
   "id": "26e07ef78bbbe009"
  },
  {
   "metadata": {},
   "cell_type": "code",
   "outputs": [],
   "execution_count": null,
   "source": [
    "# 导入数据集\n",
    "train_data = pd.read_csv('train.csv')\n",
    "test_data = pd.read_csv('test.csv')\n",
    "full_data = pd.merge(train_data, test_data, how='outer')\n",
    "\n",
    "train_data.info()\n",
    "test_data.info()\n",
    "full_data.info()\n",
    "\n",
    "# 数据预处理\n",
    "\n",
    "# 去掉无意义列\n",
    "drop_columns = ['user_id', 'term_brand', 'term_price', 'change_equip_period_avg', 'join_date']\n",
    "full_data.drop(drop_columns, axis=1, inplace=True)\n",
    "\n",
    "# 字符串列分类编码\n",
    "factorize_columns = ['zfk_type', 'jt_5gwl_flag']\n",
    "full_data['zfk_type'] = full_data['zfk_type'].factorize()[0]\n",
    "full_data['jt_5gwl_flag'] = full_data['jt_5gwl_flag'].factorize()[0]\n",
    "full_data['jt_5gzd_flag'] = full_data['jt_5gzd_flag'].factorize()[0]\n",
    "full_data['avg3_llb_flag'] = full_data['avg3_llb_flag'].factorize()[0]\n",
    "\n",
    "\n",
    "# 填充缺失值\n",
    "missing_columns = full_data.isnull().any()\n",
    "for col in missing_columns[missing_columns].index:\n",
    "    full_data[col].fillna(full_data[col].mean(), inplace=True)\n",
    "\n",
    "# area_code整体值过大，缩小范围\n",
    "full_data['area_code'] -= full_data['area_code'].min()\n",
    "\n",
    "# 调整数据类型\n",
    "full_data['age'] = full_data['age'].astype('float64')\n",
    "full_data['sl_flag'] = full_data['sl_flag'].astype('int64')\n",
    "full_data['sl_type'] = full_data['sl_type'].astype('int64')\n",
    "full_data['jt_5gzd_flag'] = full_data['jt_5gzd_flag'].astype('int64')\n",
    "\n",
    "# 归一化\n",
    "normal_columns = train_data.select_dtypes(include='float64').columns\n",
    "for col in normal_columns:\n",
    "    full_data[col] = (full_data[col] - full_data[col].mean()) / full_data[col].std()\n",
    "\n",
    "# 保存\n",
    "full_data.to_csv('processed_data.csv', index=False)"
   ],
   "id": "7046ab017c925f0e"
  },
  {
   "metadata": {},
   "cell_type": "code",
   "source": [
    "# 导入数据\n",
    "processed_data = pd.read_csv('processed_data.csv')\n",
    "X = processed_data.drop('sample_flag', axis=1)\n",
    "y = processed_data['sample_flag'] - 1\n",
    "X_train, X_test, y_train, y_test = train_test_split(X, y, test_size=0.2, random_state=42)\n",
    "# sample_flag从1开始，转换为从0开始\n",
    "y_train = y_train - 1\n",
    "y_test = y_test - 1"
   ],
   "id": "6d89397620d9c62a",
   "outputs": [],
   "execution_count": null
  },
  {
   "metadata": {},
   "cell_type": "markdown",
   "source": "# 2. 模型调参",
   "id": "496841d6da559a5e"
  },
  {
   "metadata": {},
   "cell_type": "markdown",
   "source": "### 2.1 自动调参",
   "id": "8dd04094ba40958f"
  },
  {
   "metadata": {},
   "cell_type": "code",
   "source": [
    "# 先使用Optuna库进行自动调参，得到相对较优的参数，便于后续调优\n",
    "def objective(trial, X, y):\n",
    "    # 参数网格\n",
    "    param_grid = {\n",
    "        \"n_estimators\": trial.suggest_int(\"n_estimators\", 100, 1000, step=100),\n",
    "        \"learning_rate\": trial.suggest_float(\"learning_rate\", 0.01, 0.3),\n",
    "        \"num_leaves\": trial.suggest_int(\"num_leaves\", 20, 250, step=10),\n",
    "        \"max_depth\": trial.suggest_int(\"max_depth\", -1, 8, step=1),\n",
    "        \"min_data_in_leaf\": trial.suggest_int(\"min_data_in_leaf\", 50, 300, step=50),\n",
    "        \"max_bin\": trial.suggest_int(\"max_bin\", 1, 255, step=10),\n",
    "        \"lambda_l1\": trial.suggest_int(\"lambda_l1\", 0, 50, step=5),\n",
    "        \"lambda_l2\": trial.suggest_int(\"lambda_l2\", 0, 50, step=5),\n",
    "        \"min_gain_to_split\": trial.suggest_float(\"min_gain_to_split\", 0, 15),\n",
    "        \"bagging_fraction\": trial.suggest_float(\"bagging_fraction\", 0.2, 0.95, step=0.1),\n",
    "        \"bagging_freq\": trial.suggest_categorical(\"bagging_freq\", [1]),\n",
    "        \"feature_fraction\": trial.suggest_float(\"feature_fraction\", 0.2, 0.95, step=0.1),\n",
    "        \"random_state\": 2021,\n",
    "        'early_stopping_rounds': 200,\n",
    "        'num_class': 3,\n",
    "        'verbose': -1,\n",
    "        'metric': 'multi_logloss'\n",
    "    }\n",
    "    # 5折交叉验证\n",
    "    cv = StratifiedKFold(n_splits=5, shuffle=True, random_state=1121218)\n",
    "\n",
    "    cv_scores = np.empty(5)\n",
    "    for idx, (train_idx, test_idx) in enumerate(cv.split(X, y)):\n",
    "        X_train, X_test = X.iloc[train_idx], X.iloc[test_idx]\n",
    "        y_train, y_test = y[train_idx], y[test_idx]\n",
    "\n",
    "        # LGBM建模\n",
    "        model = lgb.LGBMClassifier(objective=\"multiclass\", **param_grid)\n",
    "        model.fit(\n",
    "            X_train,\n",
    "            y_train,\n",
    "            eval_set=[(X_test, y_test)],\n",
    "            eval_metric='multi_logloss',\n",
    "            callbacks=[LightGBMPruningCallback(trial, 'multi_logloss')],\n",
    "            verbose=False,\n",
    "        )\n",
    "        # 模型预测\n",
    "        preds = model.predict(X_test)\n",
    "        # 优化指标accuracy_score最大\n",
    "        cv_scores[idx] = accuracy_score(y_test, preds)\n",
    "\n",
    "    return np.mean(cv_scores)\n",
    "\n",
    "\n",
    "study = optuna.create_study(direction=\"minimize\", study_name=\"LGBM Classifier\")\n",
    "func = lambda trial: objective(trial, X, y)\n",
    "study.optimize(func, n_trials=20)"
   ],
   "id": "1664c96137b1e5e0",
   "outputs": [],
   "execution_count": null
  },
  {
   "metadata": {},
   "cell_type": "code",
   "source": [
    "# 打印最优参数\n",
    "print(f\"\\tBest Accuracy: {study.best_value:.5f}\")\n",
    "print(f\"\\tBest params:\")\n",
    "for key, value in study.best_params.items():\n",
    "    print(f\"\\t\\t{key}: {value}\")\n",
    "\n",
    "\n",
    "# Best value (accuracy): 0.88743\n",
    "# Best params:\n",
    "#     n_estimators: 300\n",
    "#     learning_rate: 0.23028022823241723\n",
    "#     num_leaves: 240\n",
    "#     max_depth: 4\n",
    "#     min_data_in_leaf: 150\n",
    "#     max_bin: 50\n",
    "#     lambda_l1: 35\n",
    "#     lambda_l2: 0\n",
    "#     min_gain_to_split: 14.897198600908983\n",
    "#     bagging_fraction: 0.5\n",
    "#     bagging_freq: 1\n",
    "#     feature_fraction: 0.6000000000000001"
   ],
   "id": "e4f3895972194b4f",
   "outputs": [],
   "execution_count": null
  },
  {
   "metadata": {},
   "cell_type": "code",
   "source": [
    "# 使用自动调参得到的参数进行模型训练\n",
    "params = study.best_params\n",
    "model_autobest = lgb.LGBMClassifier(objective=\"multiclass\", **params)\n",
    "model_autobest.fit(X_train, y_train)\n",
    "y_pred = model_autobest.predict(X_test)\n",
    "\n",
    "# 将模型的训练过程可视化\n",
    "lgb.plot_metric(model_autobest)\n",
    "plt.show()\n",
    "\n",
    "# 模型评估\n",
    "print('accuracy:', accuracy_score(y_test, y_pred))\n",
    "print(classification_report(y_test, y_pred))"
   ],
   "id": "7ae0d2a53d4c280c",
   "outputs": [],
   "execution_count": null
  },
  {
   "metadata": {},
   "cell_type": "markdown",
   "source": "### 2.2 进一步调参",
   "id": "b40ba09f5a371467"
  },
  {
   "metadata": {},
   "cell_type": "markdown",
   "source": "#### 2.2.1 寻找最优的迭代次数",
   "id": "3e0f0507ed5f86e6"
  },
  {
   "metadata": {},
   "cell_type": "code",
   "source": [
    "# 将自动调参得到的参数导入作为初始参数，这里将学习率设置的较大，便于手动调参\n",
    "params_test = study.best_params\n",
    "params_test['learning_rate'] = 0.1"
   ],
   "id": "e057d8c868eaf2de",
   "outputs": [],
   "execution_count": null
  },
  {
   "metadata": {},
   "cell_type": "code",
   "source": [
    "# 寻找最优的迭代次数\n",
    "data_train = lgb.Dataset(X_train, y_train)\n",
    "call_backs = [log_evaluation(period=50), early_stopping(stopping_rounds=30)]\n",
    "cv_results = lgb.cv(params_test, data_train, num_boost_round=1000, nfold=5, stratified=False, shuffle=True, metrics='multi_logloss', seed=0)\n",
    "\n",
    "best_n_estimators = len(cv_results['valid multi_logloss-mean'])\n",
    "params_test['n_estimators'] = best_n_estimators\n",
    "\n",
    "print('best n_estimators:', best_n_estimators)\n",
    "print('best cv score:', pd.Series(cv_results['valid multi_logloss-mean']).max())"
   ],
   "id": "8222e5ffdc369cab",
   "outputs": [],
   "execution_count": null
  },
  {
   "metadata": {},
   "cell_type": "markdown",
   "source": "#### 2.2.2 搜索最优max_depth和num_leaves",
   "id": "cfae74a5b7df1aae"
  },
  {
   "metadata": {},
   "cell_type": "code",
   "source": [
    "params_test_1 = {\n",
    "    'max_depth': range(1, 8, 1),\n",
    "    'num_leaves': range(200, 250, 5),\n",
    "    }"
   ],
   "id": "21d2dc316a4b808a",
   "outputs": [],
   "execution_count": null
  },
  {
   "metadata": {},
   "cell_type": "code",
   "source": [
    "gbm = lgb.LGBMClassifier(**params_test)\n",
    "gsearch = GridSearchCV(gbm, param_grid=params_test_1, scoring='accuracy', cv=5, n_jobs=4, error_score='raise')\n",
    "gsearch.fit(X_train, y_train)\n",
    "\n",
    "best_max_depth = gsearch.best_params_['max_depth']\n",
    "best_num_leaves = gsearch.best_params_['num_leaves']\n",
    "params_test['max_depth'] = best_max_depth\n",
    "\n",
    "print('参数的最佳取值:{0}'.format(gsearch.best_params_))\n",
    "print('最佳模型得分:{0}'.format(gsearch.best_score_))\n",
    "print(gsearch.cv_results_['mean_test_score'])\n",
    "print(gsearch.cv_results_['params'])"
   ],
   "id": "37baec4bc0479056",
   "outputs": [],
   "execution_count": null
  },
  {
   "metadata": {},
   "cell_type": "markdown",
   "source": "#### 2.2.3 搜索最优min_data_in_leaf和max_bin in",
   "id": "3f4f75abb29caff0"
  },
  {
   "metadata": {},
   "cell_type": "code",
   "source": [
    "params_test_2 = {\n",
    "    'min_data_in_leaf': range(100, 200, 10),\n",
    "    'max_bin': range(20, 80, 5),\n",
    "    }"
   ],
   "id": "efaf24a770ead338",
   "outputs": [],
   "execution_count": null
  },
  {
   "metadata": {},
   "cell_type": "code",
   "source": [
    "gbm = lgb.LGBMClassifier(**params_test)\n",
    "gsearch = GridSearchCV(gbm, param_grid=params_test_2, scoring='accuracy', cv=5, n_jobs=4, error_score='raise')\n",
    "gsearch.fit(X_train, y_train)\n",
    "\n",
    "best_min_data_in_leaf = gsearch.best_params_['min_data_in_leaf']\n",
    "best_max_bin = gsearch.best_params_['max_bin']\n",
    "params_test['min_data_in_leaf'] = best_min_data_in_leaf\n",
    "params_test['max_bin'] = best_max_bin\n",
    "\n",
    "print('参数的最佳取值:{0}'.format(gsearch.best_params_))\n",
    "print('最佳模型得分:{0}'.format(gsearch.best_score_))\n",
    "print(gsearch.cv_results_['mean_test_score'])\n",
    "print(gsearch.cv_results_['params'])"
   ],
   "id": "90bc3bb30b93aea3",
   "outputs": [],
   "execution_count": null
  },
  {
   "metadata": {},
   "cell_type": "markdown",
   "source": "#### 2.2.4 搜索最优bagging_fraction和feature_fraction",
   "id": "815ac6e59cea094e"
  },
  {
   "metadata": {},
   "cell_type": "code",
   "outputs": [],
   "execution_count": null,
   "source": [
    "params_test_3 = {\n",
    "    'bagging_fraction': [i/10 for i in range(2, 10)],\n",
    "    'feature_fraction': [i/10 for i in range(2, 10)],\n",
    "    }"
   ],
   "id": "15c1a40f38545410"
  },
  {
   "metadata": {},
   "cell_type": "code",
   "outputs": [],
   "execution_count": null,
   "source": [
    "gbm = lgb.LGBMClassifier(**params_test)\n",
    "gsearch = GridSearchCV(gbm, param_grid=params_test_3, scoring='accuracy', cv=5, n_jobs=4, error_score='raise')\n",
    "gsearch.fit(X_train, y_train)\n",
    "\n",
    "best_bagging_fraction = gsearch.best_params_['bagging_fraction']\n",
    "best_feature_fraction = gsearch.best_params_['feature_fraction']\n",
    "params_test['bagging_fraction'] = best_bagging_fraction\n",
    "params_test['feature_fraction'] = best_feature_fraction\n",
    "\n",
    "print('参数的最佳取值:{0}'.format(gsearch.best_params_))\n",
    "print('最佳模型得分:{0}'.format(gsearch.best_score_))\n",
    "print(gsearch.cv_results_['mean_test_score'])\n",
    "print(gsearch.cv_results_['params'])"
   ],
   "id": "3c42449ee3609a78"
  },
  {
   "metadata": {},
   "cell_type": "markdown",
   "source": "#### 2.2.5 搜索最优lambda_l1和lambda_l2",
   "id": "1a7a6f125b0a1eba"
  },
  {
   "metadata": {},
   "cell_type": "code",
   "outputs": [],
   "execution_count": null,
   "source": [
    "params_test_4 = {\n",
    "    'lambda_l1': range(20, 50, 2),\n",
    "    'lambda_l2': range(0, 20, 2),\n",
    "    }"
   ],
   "id": "c08ff6b857fc4adf"
  },
  {
   "metadata": {},
   "cell_type": "code",
   "outputs": [],
   "execution_count": null,
   "source": [
    "gbm = lgb.LGBMClassifier(**params_test)\n",
    "gsearch = GridSearchCV(gbm, param_grid=params_test_4, scoring='accuracy', cv=5, n_jobs=4, error_score='raise')\n",
    "gsearch.fit(X_train, y_train)\n",
    "\n",
    "best_lambda_l1 = gsearch.best_params_['lambda_l1']\n",
    "best_lambda_l2 = gsearch.best_params_['lambda_l2']\n",
    "params_test['lambda_l1'] = best_lambda_l1\n",
    "params_test['lambda_l2'] = best_lambda_l2\n",
    "\n",
    "print('参数的最佳取值:{0}'.format(gsearch.best_params_))\n",
    "print('最佳模型得分:{0}'.format(gsearch.best_score_))\n",
    "print(gsearch.cv_results_['mean_test_score'])\n",
    "print(gsearch.cv_results_['params'])"
   ],
   "id": "e26b29b0ca76b619"
  },
  {
   "metadata": {},
   "cell_type": "markdown",
   "source": "## 3.模型训练",
   "id": "2fe551019082850f"
  },
  {
   "metadata": {},
   "cell_type": "code",
   "outputs": [],
   "execution_count": null,
   "source": [
    "params_best = params_test\n",
    "params_best['learning_rate'] = study.best_params['learning_rate']\n",
    "model_best = lgb.LGBMClassifier(**params_best)\n",
    "model_best.fit(X_train, y_train)\n",
    "y_pred = model_best.predict(X_test)\n",
    "\n",
    "# 将模型的训练过程可视化\n",
    "lgb.plot_metric(model_best)\n",
    "plt.show()\n",
    "\n",
    "# 模型评估\n",
    "print('accuracy:', accuracy_score(y_test, y_pred))\n",
    "print(classification_report(y_test, y_pred))"
   ],
   "id": "7954933b1a5fdef6"
  },
  {
   "metadata": {},
   "cell_type": "markdown",
   "source": "# 4.模型预测",
   "id": "59d34d5bc033c3ab"
  },
  {
   "metadata": {},
   "cell_type": "code",
   "outputs": [],
   "execution_count": null,
   "source": [
    "# 测试集的数据处理、预测、输出\n",
    "test_data = pd.read_csv(\"../output/DATA/testB.csv\")\n",
    "test_data = test_data.drop(columns=[\"area_code\", \"join_date\", \"term_brand\", \"term_price\", \"change_equip_period_avg\"])\n",
    "test_data[\"zfk_type\"] = test_data[\"zfk_type\"].map({'是': 1, '否': 0})\n",
    "test_data[\"jt_5gwl_flag\"] = test_data[\"jt_5gwl_flag\"].map({\"is_5gwl_user\": 1})\n",
    "test_data[\"avg3_llb_flag\"] = test_data[\"avg3_llb_flag\"].fillna(test_data[\"avg3_llb_flag\"].mode()[0])\n",
    "test_data[\"sl_flag\"] = test_data[\"sl_flag\"].fillna(test_data[\"sl_flag\"].mode()[0])\n",
    "test_data[\"sl_type\"] = test_data[\"sl_type\"].fillna(test_data[\"sl_type\"].mode()[0])\n",
    "test_data[\"jt_5gwl_flag\"] = test_data[\"jt_5gwl_flag\"].fillna(int(0))\n",
    "test_data = test_data.fillna(test_data.mean())\n",
    "test_data[\"avg3_llb_flag\"] = test_data[\"avg3_llb_flag\"].astype(\"int64\")\n",
    "test_data[\"sl_flag\"] = test_data[\"sl_flag\"].astype(\"int64\")\n",
    "test_data[\"sl_type\"] = test_data[\"sl_type\"].astype(\"int64\")\n",
    "test_data[\"jt_5gwl_flag\"] = test_data[\"jt_5gwl_flag\"].astype(\"int64\")\n",
    "for col in test_data.columns:\n",
    "    if test_data[col].dtype == 'float64':\n",
    "        test_data[col] = (test_data[col] - test_data[col].mean()) / test_data[col].std()\n",
    "test = np.array(test_data.drop(\"user_id\", axis=1))"
   ],
   "id": "98994d4626ae4c74"
  },
  {
   "metadata": {},
   "cell_type": "code",
   "outputs": [],
   "execution_count": null,
   "source": [
    "# 模型预测\n",
    "predict = model_best.predict(test, num_iteration=gbm.best_iteration)\n",
    "predict = np.argmax(predict, axis=1) + 1\n",
    "test_data['prediction'] = predict"
   ],
   "id": "b9ef2584fea2f3e4"
  },
  {
   "metadata": {},
   "cell_type": "code",
   "outputs": [],
   "execution_count": null,
   "source": [
    "# 输出预测结果\n",
    "output = test_data[[\"user_id\", \"prediction\"]]\n",
    "output = output.rename(columns={\"prediction\": \"predtype\"})\n",
    "output.to_csv(\"../output/output.csv\", index = False, encoding = \"utf-8\")"
   ],
   "id": "df103857eea06d4d"
  }
 ],
 "metadata": {
  "kernelspec": {
   "display_name": "Python 3",
   "language": "python",
   "name": "python3"
  },
  "language_info": {
   "codemirror_mode": {
    "name": "ipython",
    "version": 2
   },
   "file_extension": ".py",
   "mimetype": "text/x-python",
   "name": "python",
   "nbconvert_exporter": "python",
   "pygments_lexer": "ipython2",
   "version": "2.7.6"
  }
 },
 "nbformat": 4,
 "nbformat_minor": 5
}
